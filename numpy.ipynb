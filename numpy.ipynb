{
  "cells": [
    {
      "cell_type": "markdown",
      "metadata": {
        "id": "vC84e9kzyxPy"
      },
      "source": [
        "<h1>Импорт библиотек"
      ]
    },
    {
      "cell_type": "code",
      "execution_count": 3,
      "metadata": {
        "id": "cgKeNegmQG5S"
      },
      "outputs": [],
      "source": [
        "import numpy as np\n",
        "import matplotlib.pyplot as plt"
      ]
    },
    {
      "cell_type": "markdown",
      "metadata": {
        "id": "qFM9uVU2x4Ls"
      },
      "source": [
        "<h1>Задача 1. Дан набор из $p$ матриц размерностью $(n, n)$ и $p$ векторов размерностью $(n, 1)$, найти сумму произведений матриц на векторы. Написать тесты для кода"
      ]
    },
    {
      "cell_type": "code",
      "execution_count": null,
      "metadata": {
        "id": "IAbUvEiYyWFF"
      },
      "outputs": [],
      "source": [
        "def sum_prod(X, V):\n",
        "    result = np.zeros((A[0].shape[0], 1)) \n",
        "    for i in range(len(A)):\n",
        "        result += A[i] @ b[i] \n",
        "    return result\n",
        "    pass\n",
        "def run_tests():\n",
        "    A1 = [np.array([[1, 2], [3, 4]]), np.array([[5, 6], [7, 8]])]\n",
        "    b1 = [np.array([[1], [1]]), np.array([[1], [1]])]\n",
        "    expected_result1 = np.array([[1*1 + 2*1 + 5*1 + 6*1], [3*1 + 4*1 + 7*1 + 8*1]])  # [[21], [49]]\n",
        "    \n",
        "    result1 = sum_prod(A1, b1)\n",
        "    print(\"Тест 1:\", np.array_equal(result1, expected_result1), \"Результат:\", result1)\n",
        "\n",
        "    A2 = []\n",
        "    b2 = []\n",
        "    expected_result2 = np.zeros((0, 1))\n",
        "    \n",
        "    result2 = sum_prod(A2, b2)\n",
        "    print(\"Тест 2:\", np.array_equal(result2, expected_result2), \"Результат:\", result2)\n",
        "\n"
      ]
    },
    {
      "cell_type": "markdown",
      "metadata": {
        "id": "TKwPG4fIy2w4"
      },
      "source": [
        "<h1>Задача 2. Дана матрица M, напишите функцию, которая бинаризует матрицу по некоторому threshold (то есть, все значения большие threshold становятся равными 1, иначе 0). Напишите тесты для кода"
      ]
    },
    {
      "cell_type": "code",
      "execution_count": null,
      "metadata": {
        "id": "KQDNMgsjRNH7"
      },
      "outputs": [],
      "source": [
        "def binarize(M, threshold=0.5):\n",
        "    return (M > threshold).astype(int)\n",
        "    pass\n",
        "def run_tests():\n",
        "    M1 = np.array([[0.5, 1.5, 2.0], [0.2, 0.8, 1.0]])\n",
        "    threshold1 = 1.0\n",
        "    expected_result1 = np.array([[0, 1, 1], [0, 0, 1]])\n",
        "    result1 = binarize(M1, threshold1)\n",
        "    print(\"Тест 1:\", np.array_equal(result1, expected_result1), \"Результат:\\n\", result1)\n",
        "\n",
        "    M2 = np.array([[1, 2], [3, 4]])\n",
        "    threshold2 = 2\n",
        "    expected_result2 = np.array([[0, 0], [1, 1]])\n",
        "    \n",
        "    result2 = binarize(M2, threshold2)\n",
        "    print(\"Тест 2:\", np.array_equal(result2, expected_result2), \"Результат:\\n\", result2)\n",
        "\n",
        "    M3 = np.array([[0, 0], [0, 0]])\n",
        "    threshold3 = 1\n",
        "    expected_result3 = np.array([[0, 0], [0, 0]])\n",
        "    result3 = binarize(M3, threshold3)\n",
        "    print(\"Тест 3:\", np.array_equal(result3, expected_result3), \"Результат:\\n\", result3)\n",
        "\n",
        "    M4 = np.array([[1, 2], [3, 4]])\n",
        "    threshold4 = 0\n",
        "    expected_result4 = np.array([[1, 1], [1, 1]])\n",
        "    result4 = binarize(M4, threshold4)\n",
        "    print(\"Тест 4:\", np.array_equal(result4, expected_result4), \"Результат:\\n\", result4)"
      ]
    },
    {
      "cell_type": "markdown",
      "metadata": {
        "id": "IY5L-h-7zWhN"
      },
      "source": [
        "<h1>Задача 3. Напишите функцию, которая возвращает уникальные элементы из каждой строки матрицы. Напишите такую же функцию, но для столбцов. Напишите тесты для кода"
      ]
    },
    {
      "cell_type": "code",
      "execution_count": null,
      "metadata": {
        "id": "-8dEZhR0SBC-"
      },
      "outputs": [],
      "source": [
        "def unique_rows(mat):\n",
        "    return [np.unique(row) for row in M]\n",
        "    pass\n",
        "\n",
        "def unique_columns(mat):\n",
        "    return [np.unique(M[:, col]) for col in range(M.shape[1])]\n",
        "    pass\n",
        "\n",
        "def run_tests():\n",
        "    M1 = np.array([[1, 2, 2], [3, 4, 4], [1, 3, 3]])\n",
        "    expected_rows1 = [np.array([1, 2]), np.array([3, 4]), np.array([1, 3])]\n",
        "    expected_columns1 = [np.array([1, 3]), np.array([2, 4])]\n",
        "    \n",
        "    result_rows1 = unique_rows(M1)\n",
        "    result_columns1 = unique_columns(M1)\n",
        "    print(\"Тест 1 (строки):\", all(np.array_equal(result_rows1[i], expected_rows1[i]) for i in range(len(result_rows1))), \"Результат:\\n\", result_rows1)\n",
        "    print(\"Тест 1 (столбцы):\", all(np.array_equal(result_columns1[i], expected_columns1[i]) for i in range(len(result_columns1))), \"Результат:\\n\", result_columns1)\n",
        "\n",
        "    M2 = np.array([[1, 2, 3], [4, 5, 6]])\n",
        "    expected_rows2 = [np.array([1, 2, 3]), np.array([4, 5, 6])]\n",
        "    expected_columns2 = [np.array([1, 4]), np.array([2, 5]), np.array([3, 6])]\n",
        "    \n",
        "    result_rows2 = unique_rows(M2)\n",
        "    result_columns2 = unique_columns(M2)\n",
        "    print(\"Тест 2 (строки):\", all(np.array_equal(result_rows2[i], expected_rows2[i]) for i in range(len(result_rows2))), \"Результат:\\n\", result_rows2)\n",
        "    print(\"Тест 2 (столбцы):\", all(np.array_equal(result_columns2[i], expected_columns2[i]) for i in range(len(result_columns2))), \"Результат:\\n\", result_columns2)\n",
        "\n",
        "    M3 = np.array([[1, 1, 1]])\n",
        "    expected_rows3 = [np.array([1])]\n",
        "    expected_columns3 = [np.array([1])]\n",
        "    \n",
        "    result_rows3 = unique_rows(M3)\n",
        "    result_columns3 = unique_columns(M3)\n",
        "    print(\"Тест 3 (строки):\", all(np.array_equal(result_rows3[i], expected_rows3[i]) for i in range(len(result_rows3))), \"Результат:\\n\", result_rows3)\n",
        "    print(\"Тест 3 (столбцы):\", all(np.array_equal(result_columns3[i], expected_columns3[i]) for i in range(len(result_columns3))), \"Результат:\\n\", result_columns3)\n",
        "\n",
        "    M4 = np.array([[]])\n",
        "    expected_rows4 = []\n",
        "    expected_columns4 = []\n",
        "    \n",
        "    result_rows4 = unique_rows(M4)\n",
        "    result_columns4 = unique_columns(M4)\n",
        "    print(\"Тест 4 (строки):\", result_rows4 == expected_rows4, \"Результат:\\n\", result_rows4)\n",
        "    print(\"Тест 4 (столбцы):\", result_columns4 == expected_columns4, \"Результат:\\n\", result_columns4)\n"
      ]
    },
    {
      "cell_type": "markdown",
      "metadata": {
        "id": "roYAlo4Jz-lH"
      },
      "source": [
        "<h1>Задача 4. Напишите функцию, которая заполняет матрицу с размерами $(m, n)$ случайными числами, распределенными по нормальному закону. Затем считает мат. ожидание и дисперсию для каждого из столбцов и строк, а также строит для каждой строки и столбца гистограмму значений (использовать функцию hist из модуля matplotlib.plot)"
      ]
    },
    {
      "cell_type": "code",
      "execution_count": null,
      "metadata": {
        "id": "nZK_71hMSQzv"
      },
      "outputs": [],
      "source": [
        "def fill_matrix_and_analyze(m, n):\n",
        "    matrix = np.random.normal(loc=0, scale=1, size=(m, n))\n",
        "    \n",
        "    mean_rows = np.mean(matrix, axis=1)\n",
        "    variance_rows = np.var(matrix, axis=1)\n",
        "\n",
        "    mean_columns = np.mean(matrix, axis=0)\n",
        "    variance_columns = np.var(matrix, axis=0)\n",
        "\n",
        "    print(\"Матрица:\\n\", matrix)\n",
        "    print(\"Математическое ожидание для строк:\", mean_rows)\n",
        "    print(\"Дисперсия для строк:\", variance_rows)\n",
        "    print(\"Математическое ожидание для столбцов:\", mean_columns)\n",
        "    print(\"Дисперсия для столбцов:\", variance_columns)\n",
        "\n",
        "    for i in range(m):\n",
        "        plt.figure(figsize=(6, 4))\n",
        "        plt.hist(matrix[i, :], bins=10, alpha=0.7, color='blue')\n",
        "        plt.title(f'Гистограмма значений строки {i+1}')\n",
        "        plt.xlabel('Значения')\n",
        "        plt.ylabel('Частота')\n",
        "        plt.grid()\n",
        "        plt.show()\n",
        "\n",
        "    for j in range(n):\n",
        "        plt.figure(figsize=(6, 4))\n",
        "        plt.hist(matrix[:, j], bins=10, alpha=0.7, color='green')\n",
        "        plt.title(f'Гистограмма значений столбца {j+1}')\n",
        "        plt.xlabel('Значения')\n",
        "        plt.ylabel('Частота')\n",
        "        plt.grid()\n",
        "        plt.show()\n",
        "\n",
        "    return matrix, mean_rows, variance_rows, mean_columns, variance_columns\n"
      ]
    },
    {
      "cell_type": "markdown",
      "metadata": {
        "id": "BDyATNdM0dJ2"
      },
      "source": [
        "<h1>Задача 5. Напишите функцию, которая заполняет матрицу $(m, n)$ в шахматном порядке заданными числами $a$ и $b$. Напишите тесты для кода"
      ]
    },
    {
      "cell_type": "code",
      "execution_count": null,
      "metadata": {
        "id": "RWNJYWQGecS6"
      },
      "outputs": [],
      "source": [
        "def chess(m, n, a, b):\n",
        "    for i in range(m):\n",
        "        for j in range(n):\n",
        "            if (i + j) % 2 == 0:\n",
        "                matrix[i, j] = a  # Черная клетка\n",
        "            else:\n",
        "                matrix[i, j] = b  # Белая клетка\n",
        "    return matrix\n",
        "    pass\n",
        "\n",
        "def test_chess():\n",
        "    result = chess(2, 2, 1, 0)\n",
        "    expected = np.array([[1, 0], [0, 1]])\n",
        "    assert np.array_equal(result, expected), f\"Тест 1 не пройден! Получено: {result}, Ожидалось: {expected}\"\n",
        "\n",
        "    result = chess(3, 3, 2, 3)\n",
        "    expected = np.array([[2, 3, 2],\n",
        "                         [3, 2, 3],\n",
        "                         [2, 3, 2]])\n",
        "    assert np.array_equal(result, expected), f\"Тест 2 не пройден! Получено: {result}, Ожидалось: {expected}\"\n",
        "\n",
        "    result = chess(4, 5, 5, 10)\n",
        "    expected = np.array([[ 5, 10,  5, 10,  5],\n",
        "                         [10,  5, 10,  5, 10],\n",
        "                         [ 5, 10,  5, 10,  5],\n",
        "                         [10,  5, 10,  5, 10]])\n",
        "    assert np.array_equal(result, expected), f\"Тест 3 не пройден! Получено: {result}, Ожидалось: {expected}\"\n",
        "\n",
        "    result = chess(1, 1, 7, 8)\n",
        "    expected = np.array([[7]])\n",
        "    assert np.array_equal(result, expected), f\"Тест 4 не пройден! Получено: {result}, Ожидалось: {expected}\"\n"
      ]
    },
    {
      "cell_type": "markdown",
      "metadata": {
        "id": "-ymXLtTN0vB6"
      },
      "source": [
        "<h1>Задача 6. Напишите функцию, которая отрисовывает прямоугольник с заданными размерами (a, b) на изображении размера (m, n), цвет фона задайте в схеме RGB, как и цвет прямоугольника. Цвета также должны быть параметрами функции. Напишите аналогичную функцию но для овала с полуосями a и b. Напишите тесты для кода.\n",
        "Примечание: уравнение эллипса (границы овала) можно записать как:\n",
        "<h1>$\\frac{(x-x_0)^2}{a^2}+\\frac{(y-y_0)^2}{b^2}=1$"
      ]
    },
    {
      "cell_type": "code",
      "execution_count": 1,
      "metadata": {
        "id": "sNfl1t_kfOF4"
      },
      "outputs": [],
      "source": [
        "from PIL import Image, ImageDraw\n",
        "def draw_rectangle(a, b, m, n, rectangle_color, background_color):\n",
        "    image = Image.new(\"RGB\", (n, m), background_color)\n",
        "    draw = ImageDraw.Draw(image)\n",
        "    draw.rectangle([0, 0, a, b], fill=rectangle_color)\n",
        "    return image\n",
        "    pass\n",
        "\n",
        "def draw_ellipse(a, b, m, n, ellipse_color, background_color):\n",
        "    image = Image.new(\"RGB\", (n, m), background_color)\n",
        "    draw = ImageDraw.Draw(image)\n",
        "    draw.ellipse([n//2 - a, m//2 - b, n//2 + a, m//2 + b], fill=ellipse_color)\n",
        "    return image\n",
        "    pass\n",
        "\n",
        "def test_draw_shapes():\n",
        "    rectangle_image = draw_rectangle(300, 400, 200, 100, (255, 255, 255), (255, 0, 0))\n",
        "    rectangle_image.save(\"rectangle_test.png\")\n",
        "    \n",
        "    assert rectangle_image.size == (400, 300), \"Тест 1 не пройден! Неверные размеры изображения для прямоугольника.\"\n",
        "\n",
        "    ellipse_image = draw_ellipse(300, 400, 100, 50, (255, 255, 255), (0, 255, 0))\n",
        "    ellipse_image.save(\"oval_test.png\")\n",
        "    \n",
        "    assert ellipse_image.size == (400, 300), \"Тест 2 не пройден! Неверные размеры изображения для овала.\""
      ]
    },
    {
      "cell_type": "markdown",
      "metadata": {
        "id": "S82c38oz244H"
      },
      "source": [
        "<h1>Задача 7. Дан некий временной ряд. Для данного ряда нужно найти его: математическое ожидание, дисперсию, СКО, найти все локальные максимумы и минимумы (локальный максимум - это точка, которая больше своих соседних точек, а локальный минимум - это точка, которая меньше своих соседей), а также вычислить для данного ряда другой ряд, получаемый методом скользящего среднего с размером окна $p$.\n",
        "<h1>Примечание: метод скользящего среднего подразумевает нахождение среднего из подмножетсва ряда размером $p$"
      ]
    },
    {
      "cell_type": "code",
      "execution_count": null,
      "metadata": {
        "id": "Zb9mIVge5MMt"
      },
      "outputs": [],
      "source": [
        "import pandas as pd\n",
        "\n",
        "def compute_statistics(time_series):\n",
        "    mean = np.mean(time_series)\n",
        "    variance = np.var(time_series)\n",
        "    std_dev = np.std(time_series)\n",
        "    return mean, variance, std_dev\n",
        "\n",
        "\n",
        "def find_local_extrema(time_series):\n",
        "    local_maxima = []\n",
        "    local_minima = []\n",
        "    \n",
        "    for i in range(1, len(time_series) - 1):\n",
        "        if time_series[i] > time_series[i - 1] and time_series[i] > time_series[i + 1]:\n",
        "            local_maxima.append((i, time_series[i]))\n",
        "        elif time_series[i] < time_series[i - 1] and time_series[i] < time_series[i + 1]:\n",
        "            local_minima.append((i, time_series[i]))\n",
        "    \n",
        "    return local_maxima, local_minima\n",
        "\n",
        "\n",
        "def moving_average(time_series, p):\n",
        "    return time_series.rolling(window=p).mean()\n",
        "\n",
        "\n",
        "if __name__ == \"__main__\":\n",
        "    time_series = np.array([1, 3, 2, 5, 7, 6, 4, 5, 8, 9, 7, 3, 1, 0, 2])\n",
        "\n",
        "    mean, variance, std_dev = compute_statistics(time_series)\n",
        "    print(f\"Математическое ожидание: {mean}, Дисперсия: {variance}, СКО: {std_dev}\")\n",
        "\n",
        "    maxima, minima = find_local_extrema(time_series)\n",
        "    print(\"Локальные максимумы:\", maxima)\n",
        "    print(\"Локальные минимумы:\", minima)\n",
        "\n",
        "    p = 3\n",
        "    ma_series = moving_average(pd.Series(time_series), p)\n",
        "    print(f\"Скользящее среднее (p={p}):\")\n",
        "    print(ma_series)\n"
      ]
    },
    {
      "cell_type": "markdown",
      "metadata": {
        "id": "jPkylmOX5O9n"
      },
      "source": [
        "<h1> Задача 8. Дан некоторый вектор с целочисленными метками классов, напишите функцию, которая выполняет one-hot-encoding для данного вектора\n",
        "<h1> One-hot-encoding - представление, в котором на месте метки некоторого класса стоит 1, в остальных позициях стоит 0. Например для вектора [0, 2, 3, 0] one-hot-encoding выглядит как: [[1, 0, 0, 0], [0, 0, 1, 0], [0, 0, 0, 1], [1, 0, 0, 0]]"
      ]
    },
    {
      "cell_type": "code",
      "execution_count": null,
      "metadata": {
        "id": "Y-jlnZvw56lD"
      },
      "outputs": [],
      "source": [
        "def one_hot_encoding(labels):\n",
        "    num_classes = np.max(labels) + 1\n",
        "    one_hot = np.zeros((len(labels), num_classes))\n",
        "    for i, label in enumerate(labels):\n",
        "        one_hot[i, label] = 1\n",
        "    return one_hot\n",
        "\n",
        "vector = [0, 2, 3, 0]\n",
        "encoded = one_hot_encoding(vector)\n",
        "print(encoded)"
      ]
    }
  ],
  "metadata": {
    "colab": {
      "provenance": []
    },
    "kernelspec": {
      "display_name": "Python 3",
      "name": "python3"
    },
    "language_info": {
      "name": "python"
    }
  },
  "nbformat": 4,
  "nbformat_minor": 0
}
