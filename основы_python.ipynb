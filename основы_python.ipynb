{
  "cells": [
    {
      "cell_type": "markdown",
      "metadata": {
        "id": "M-DGa20PaHnu"
      },
      "source": [
        "#Задача 1\n",
        "Написать функцию на вход которой подается строка, состоящая из латинских букв.\n",
        "Функция должна вернуть количество гласных букв (a, e, i, o, u) в этой строке. Написать тесты для кода"
      ]
    },
    {
      "cell_type": "code",
      "execution_count": null,
      "metadata": {
        "id": "XvX8X_JJ6PCb"
      },
      "outputs": [],
      "source": [
        "def count_vowels(input_string):\n",
        "    vowels = 'aeiou'\n",
        "    count = 0\n",
        "    \n",
        "    for char in input_string.lower():\n",
        "        if char in vowels:\n",
        "            count += 1\n",
        "            \n",
        "    return count\n",
        "    pass\n",
        "\n",
        "def test_count_vowels():\n",
        "    assert count_vowels(\"hello\") == 2, \"Тест 1 не прошел\"\n",
        "    assert count_vowels(\"world\") == 1, \"Тест 2 не прошел\"\n",
        "    assert count_vowels(\"aeiou\") == 5, \"Тест 3 не прошел\"\n",
        "    assert count_vowels(\"bcdfgh\") == 0, \"Тест 4 не прошел\"\n",
        "    assert count_vowels(\"\") == 0, \"Тест 5 не прошел\"\n",
        "    assert count_vowels(\"aA\") == 2, \"Тест 6 не прошел\"\n",
        "    assert count_vowels(\"abcdefghi\") == 3, \"Тест 7 не прошел\"\n",
        "    print(\"Все тесты прошли успешно!\")\n",
        "\n",
        "test_count_vowels()"
      ]
    },
    {
      "cell_type": "markdown",
      "metadata": {
        "id": "t2ClV_Y0bbr6"
      },
      "source": [
        "# Задача 2\n",
        "Написать функцию на вход, которой подается строка. Функция должна вернуть true, если\n",
        "каждый символ в строке встречается только 1 раз, иначе должна вернуть false. Написать тесты для кода"
      ]
    },
    {
      "cell_type": "code",
      "execution_count": null,
      "metadata": {
        "id": "FppbECao6VIz"
      },
      "outputs": [],
      "source": [
        "def has_unique_characters(s):\n",
        "    return len(s) == len(set(s))\n",
        "    pass\n",
        "    \n",
        "def run_tests():\n",
        "    assert has_unique_characters(\"abcde\") == True, \"Ошибка: 'abcde' должна вернуть True\"\n",
        "    assert has_unique_characters(\"hello\") == False, \"Ошибка: 'hello' должна вернуть False\"\n",
        "    assert has_unique_characters(\"world\") == True, \"Ошибка: 'world' должна вернуть True\"\n",
        "    assert has_unique_characters(\"\") == True, \"Ошибка: пустая строка должна вернуть True\"\n",
        "    assert has_unique_characters(\"a\") == True, \"Ошибка: 'a' должна вернуть True\"\n",
        "    assert has_unique_characters(\"12345\") == True, \"Ошибка: '12345' должна вернуть True\"\n",
        "    assert has_unique_characters(\"112233\") == False, \"Ошибка: '112233' должна вернуть False\"\n",
        "    \n",
        "    print('Все тесты прошли успешно!')"
      ]
    },
    {
      "cell_type": "markdown",
      "metadata": {
        "id": "udRiIK1cdt6E"
      },
      "source": [
        "# Задача 3\n",
        "Написать функцию, которая принимает положительное число и возвращает количество\n",
        "бит равных 1 в этом числе. Написать тесты для кода"
      ]
    },
    {
      "cell_type": "code",
      "execution_count": null,
      "metadata": {
        "id": "6tkfDJRz6dp_"
      },
      "outputs": [],
      "source": [
        "def count_bits(n):\n",
        "    if n < 0:\n",
        "        raise ValueError(\"Пожалуйста, введите положительное число.\")\n",
        "    return bin(n).count('1')\n",
        "    pass\n",
        "\n",
        "def test_count_bits():\n",
        "    assert count_bits(0) == 0, \"Тест 1 не прошел\"\n",
        "    assert count_bits(1) == 1, \"Тест 2 не прошел\"\n",
        "    assert count_bits(2) == 1, \"Тест 3 не прошел\"\n",
        "    assert count_bits(3) == 2, \"Тест 4 не прошел\"\n",
        "    assert count_bits(4) == 1, \"Тест 5 не прошел\"\n",
        "    assert count_bits(7) == 3, \"Тест 6 не прошел\"\n",
        "    assert count_bits(255) == 8, \"Тест 7 не прошел\"\n",
        "    assert count_bits(1023) == 10, \"Тест 8 не прошел\"\n",
        "    \n",
        "    print(\"Все тесты прошли успешно!\")"
      ]
    },
    {
      "cell_type": "markdown",
      "metadata": {
        "id": "26dDUz-Ae17N"
      },
      "source": [
        "# Задача 4\n",
        "Написать функцию, которая принимает положительное число. Функция должна вернуть то,\n",
        "сколько раз необходимо перемножать цифры числа или результат перемножения, чтобы\n",
        "получилось число состоящее из одной цифры.\n",
        "Например, для входного числа:\n",
        "· 39 функция должна вернуть 3, так как 3*9=27 => 2*7=14 => 1*4=4\n",
        "· 4 функция должна вернуть 0, так как число уже состоит из одной цифры\n",
        "· 999 функция должна вернуть 4, так как 9*9*9=729 => 7*2*9=126 => 1*2*6=12 =>\n",
        "1*2=2. Написать тесты для кода"
      ]
    },
    {
      "cell_type": "code",
      "execution_count": null,
      "metadata": {
        "id": "BH1A_Mgi6i4G"
      },
      "outputs": [],
      "source": [
        "def magic(n):\n",
        "    if n < 0:\n",
        "        raise ValueError(\"Пожалуйста, введите положительное число.\")\n",
        "    \n",
        "    if n < 10:\n",
        "        return 0  # Если число состоит из одной цифры\n",
        "\n",
        "    count = 0\n",
        "    \n",
        "    while n >= 10:\n",
        "        product = 1\n",
        "        while n > 0:\n",
        "            product *= n % 10\n",
        "            n //= 10\n",
        "        n = product\n",
        "        count += 1\n",
        "    \n",
        "    return count\n",
        "    pass\n",
        "\n",
        "def test_magic():\n",
        "    assert magic(39) == 3, \"Тест 1 не прошел\"\n",
        "    assert magic(4) == 0, \"Тест 2 не прошел\"\n",
        "    assert magic(999) == 4, \"Тест 3 не прошел\"\n",
        "    assert magic(10) == 1, \"Тест 4 не прошел\"\n",
        "    assert magic(25) == 2, \"Тест 5 не прошел\"\n",
        "    assert magic(77) == 4, \"Тест 6 не прошел\"\n",
        "    \n",
        "    print(\"Все тесты прошли успешно!\")\n",
        "\n"
      ]
    },
    {
      "cell_type": "markdown",
      "metadata": {
        "id": "0nS-kIa8g8vd"
      },
      "source": [
        "# Задача 5\n",
        "Написать функцию, которая принимает два целочисленных вектора одинаковой длины и\n",
        "возвращает среднеквадратическое отклонение двух векторов. Написать тесты для кода"
      ]
    },
    {
      "cell_type": "code",
      "execution_count": null,
      "metadata": {
        "id": "8iphx4LM6xbx"
      },
      "outputs": [],
      "source": [
        "import math\n",
        "def mse(pred, true):\n",
        "    if len(pred) != len(true):\n",
        "        raise ValueError(\"Векторы должны быть одинаковой длины.\")\n",
        "    \n",
        "    n = len(pred)\n",
        "    deviations = [(pred[i] - true[i]) ** 2 for i in range(n)]\n",
        "    \n",
        "    return math.sqrt(sum(deviations) / n)\n",
        "    pass\n",
        "\n",
        "def test_mse():\n",
        "    assert math.isclose(mse([1, 2, 3], [4, 5, 6]), 3.0, rel_tol=1e-9), \"Тест 1 не прошел\"\n",
        "    assert math.isclose(mse([0, 0, 0], [0, 0, 0]), 0.0, rel_tol=1e-9), \"Тест 2 не прошел\"\n",
        "    assert math.isclose(mse([-1, -2, -3], [1, 2, 3]), 2.8284271247461903, rel_tol=1e-9), \"Тест 3 не прошел\"\n",
        "    assert math.isclose(mse([1, 2, 3], [1, 2, 3]), 0.0, rel_tol=1e-9), \"Тест 4 не прошел\"\n",
        "    assert math.isclose(mse([1, 3, 5], [2, 3, 7]), 1.1547005383792517, rel_tol=1e-9), \"Тест 5 не прошел\"\n",
        "    \n",
        "    print(\"Все тесты прошли успешно!\")\n"
      ]
    },
    {
      "cell_type": "markdown",
      "metadata": {
        "id": "vpIPKL439zkw"
      },
      "source": [
        "# Задача 6\n",
        "Написать функцию, принимающая целое положительное число. Функция должна вернуть\n",
        "строку вида “(n1**p1)(n2**p2)…(nk**pk)” представляющая разложение числа на простые\n",
        "множители (если pi == 1, то выводить только ni).\n",
        "Например, для числа 86240 функция должна вернуть “(2**5)(5)(7**2)(11)”. Написать тесты для кода"
      ]
    },
    {
      "cell_type": "code",
      "execution_count": null,
      "metadata": {
        "id": "pFebmcZk94Jw"
      },
      "outputs": [],
      "source": [
        "def prime_factorization(n):\n",
        "    if n <= 1:\n",
        "        return str(n)\n",
        "    \n",
        "    factors = []\n",
        "    i = 2\n",
        "    while i <= n:\n",
        "        if n % i == 0:\n",
        "            count = 0\n",
        "            while n % i == 0:\n",
        "                n //= i\n",
        "                count += 1\n",
        "            factors.append(f\"({i}{'**' + str(count) if count > 1 else ''})\")\n",
        "        i += 1\n",
        "    \n",
        "    return ''.join(factors)\n",
        "    pass\n",
        "\n",
        "def test_prime_factorization():\n",
        "    assert prime_factorization(2) == \"(2)\", \"Тест 1 не прошел\"\n",
        "    assert prime_factorization(5) == \"(5)\", \"Тест 2 не прошел\"\n",
        "    assert prime_factorization(7) == \"(7)\", \"Тест 3 не прошел\"\n",
        "    assert prime_factorization(11) == \"(11)\", \"Тест 4 не прошел\"\n",
        "    assert prime_factorization(86) == \"(2)(43)\", \"Тест 5 не прошел\"\n",
        "    assert prime_factorization(240) == \"(2**4)(3)(5)\", \"Тест 6 не прошел\"\n",
        "    assert prime_factorization(86240) == \"(2**5)(5)(7**2)(11)\", \"Тест 7 не прошел\"\n",
        "    \n",
        "    print(\"Все тесты прошли успешно!\")\n"
      ]
    },
    {
      "cell_type": "markdown",
      "metadata": {
        "id": "ps2s0BudX7A2"
      },
      "source": [
        "# Задача 7\n",
        "Написать функцию, принимающая целое число n, задающее количество кубиков. Функция\n",
        "должна определить, можно ли из данного кол-ва кубиков построить пирамиду, то есть\n",
        "можно ли представить число n как 1^2+2^2+3^2+…+k^2. Если можно, то функция должна\n",
        "вернуть k, иначе строку “It is impossible”. Написать тесты для кода"
      ]
    },
    {
      "cell_type": "code",
      "execution_count": null,
      "metadata": {
        "id": "3YPjEXxhX_YT"
      },
      "outputs": [],
      "source": [
        "def pyramid(number):\n",
        "    if n < 1:\n",
        "        return \"It is impossible\"\n",
        "    \n",
        "    k = 0\n",
        "    total_cubes = 0\n",
        "\n",
        "    while total_cubes < n:\n",
        "        k += 1\n",
        "        total_cubes += k ** 2\n",
        "\n",
        "    return k if total_cubes == n else \"It is impossible\"\n",
        "    pass\n",
        "\n",
        "def test_pyramid():\n",
        "    assert pyramid(1) == 1, \"Тест 1 не прошел\"  # 1^2 = 1\n",
        "    assert pyramid(5) == \"It is impossible\", \"Тест 2 не прошел\"  # 1^2 + 2^2 = 5 (но 2^2=4 не фулл)\n",
        "    assert pyramid(14) == 3, \"Тест 3 не прошел\"  # 1^2 + 2^2 + 3^2 = 14\n",
        "    assert pyramid(30) == \"It is impossible\", \"Тест 4 не прошел\"  # Не существует k, дающего 30\n",
        "    assert pyramid(55) == 5, \"Тест 5 не прошел\"  # 1^2 + 2^2 + 3^2 + 4^2 + 5^2 = 55\n",
        "    assert pyramid(0) == \"It is impossible\", \"Тест 6 не прошел\"  # Нереалистично\n",
        "    assert pyramid(100) == \"It is impossible\", \"Тест 7 не прошел\"  # Не существует k, дающего 100\n",
        "    \n",
        "    print(\"Все тесты прошли успешно!\")\n"
      ]
    },
    {
      "cell_type": "markdown",
      "metadata": {
        "id": "KeKgmIdAQMEJ"
      },
      "source": [
        "# Задача 8\n",
        "Функция принимает на вход положительное число и определяет является ли оно сбалансированным, т.е. сумма цифр до средних равна сумме цифр после. Средними в случае нечетного числа цифр считать одну цифру, в случае четного - две средних. Написать тесты для кода"
      ]
    },
    {
      "cell_type": "code",
      "execution_count": null,
      "metadata": {
        "id": "gMAAqtqlQrZt"
      },
      "outputs": [],
      "source": [
        "def is_balanced_number(number):\n",
        "    number_str = str(number)\n",
        "    length = len(number_str)\n",
        "    \n",
        "    if length % 2 == 0:\n",
        "        middle = length // 2\n",
        "        left_sum = sum(int(digit) for digit in number_str[:middle])\n",
        "        right_sum = sum(int(digit) for digit in number_str[middle:])\n",
        "    else:\n",
        "        middle = length // 2\n",
        "        left_sum = sum(int(digit) for digit in number_str[:middle])\n",
        "        right_sum = sum(int(digit) for digit in number_str[middle+1:])\n",
        "    \n",
        "    return left_sum == right_sum\n",
        "    pass\n",
        "\n",
        "def test_is_balanced_number():\n",
        "    assert is_balanced_number(121) == True, \"Тест 1 не прошел\"  \n",
        "    assert is_balanced_number(1234321) == True, \"Тест 2 не прошел\"  \n",
        "    assert is_balanced_number(1111) == False, \"Тест 3 не прошел\" \n",
        "    assert is_balanced_number(3456543) == True, \"Тест 4 не прошел\"  \n",
        "    assert is_balanced_number(11) == True, \"Тест 5 не прошел\"  \n",
        "    assert is_balanced_number(1234) == False, \"Тест 6 не прошел\" \n",
        "    \n",
        "    print(\"Все тесты прошли успешно!\")"
      ]
    }
  ],
  "metadata": {
    "colab": {
      "provenance": []
    },
    "kernelspec": {
      "display_name": "Python 3",
      "name": "python3"
    },
    "language_info": {
      "name": "python"
    }
  },
  "nbformat": 4,
  "nbformat_minor": 0
}
